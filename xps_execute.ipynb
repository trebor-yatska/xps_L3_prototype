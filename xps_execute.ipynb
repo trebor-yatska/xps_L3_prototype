{
 "cells": [
  {
   "cell_type": "code",
   "execution_count": 1,
   "metadata": {},
   "outputs": [],
   "source": [
    "from web3 import Web3, AsyncWeb3\n",
    "from web3.middleware import construct_sign_and_send_raw_middleware\n",
    "import os\n",
    "import json"
   ]
  },
  {
   "cell_type": "code",
   "execution_count": 2,
   "metadata": {},
   "outputs": [],
   "source": [
    "# connect to the chain using the conduit RPC -- testnet so no need for access key\n",
    "w3 = Web3(Web3.HTTPProvider('https://nitrorpc-xmtp-l3-sepolia-arbitrum-anytr-x1nwrvmveu.t.conduit.xyz'))"
   ]
  },
  {
   "cell_type": "code",
   "execution_count": null,
   "metadata": {},
   "outputs": [],
   "source": [
    "# get latest block -- just to check connection\n",
    "w3.eth.get_block('latest')"
   ]
  },
  {
   "cell_type": "code",
   "execution_count": 3,
   "metadata": {},
   "outputs": [],
   "source": [
    "# Step: create a persisted env variable in your .profile and name it PRIVATE_KEY\n",
    "# reference sk for signing tx\n",
    "pk = os.environ.get('PRIVATE_KEY')"
   ]
  },
  {
   "cell_type": "code",
   "execution_count": 4,
   "metadata": {},
   "outputs": [],
   "source": [
    "# eth transfer using midleware signer and send_transaction function\n",
    "\n",
    "# Instantiate an Account object from your key:\n",
    "acct2 = w3.eth.account.from_key(pk)\n",
    "\n",
    "# Add acct2 as auto-signer:\n",
    "w3.middleware_onion.add(construct_sign_and_send_raw_middleware(acct2))\n",
    "# pk also works: w3.middleware_onion.add(construct_sign_and_send_raw_middleware(pk))\n",
    "\n",
    "# Transactions from `acct2` will then be signed, under the hood, in the middleware:\n",
    "# tx_hash = w3.eth.send_transaction({\n",
    "#     \"from\": acct2.address,\n",
    "#     \"value\": 1000000,\n",
    "#     \"to\": '0xeBFc913dFfA597C1200b4c4daDe9D90415019CC2'\n",
    "# })\n",
    "\n",
    "# tx = w3.eth.get_transaction(tx_hash)\n",
    "# assert tx[\"from\"] == acct2.address"
   ]
  },
  {
   "cell_type": "code",
   "execution_count": 5,
   "metadata": {},
   "outputs": [],
   "source": [
    "# simple function to convert recipient address to 32 byte. Note, the recipient can be anything for testing (i.e., bob) but must be <32 bytes or it will fail\n",
    "def to_bytes32(input_string):\n",
    "    # Encode the string to bytes\n",
    "    encoded = input_string.encode()\n",
    "\n",
    "    # Hash the encoded bytes using KECCAK-256 (referred to as SHA3 in Ethereum)\n",
    "    return Web3.keccak(encoded)"
   ]
  },
  {
   "cell_type": "code",
   "execution_count": null,
   "metadata": {},
   "outputs": [],
   "source": [
    "# contract call\n",
    "\n",
    "# deployed contract address\n",
    "contract_address = Web3.to_checksum_address('0x7af41F8786ed496beDDEceF9341F40fEAd3F4B3F')\n",
    "\n",
    "# recipient address as bytes32\n",
    "msg_recipient = '0xd96FA162b064553822e765545E3D48a054eC81F6'.encode('utf-8')\n",
    "\n",
    "# deployed contract abi\n",
    "abi = json.loads('''[\n",
    "    {\n",
    "      \"anonymous\": false,\n",
    "      \"inputs\": [\n",
    "        {\n",
    "          \"indexed\": true,\n",
    "          \"internalType\": \"bytes32\",\n",
    "          \"name\": \"recipient\",\n",
    "          \"type\": \"bytes32\"\n",
    "        },\n",
    "        {\n",
    "          \"indexed\": false,\n",
    "          \"internalType\": \"string\",\n",
    "          \"name\": \"message\",\n",
    "          \"type\": \"string\"\n",
    "        }\n",
    "      ],\n",
    "      \"name\": \"MessageSent\",\n",
    "      \"type\": \"event\"\n",
    "    },\n",
    "    {\n",
    "      \"inputs\": [\n",
    "        {\n",
    "          \"internalType\": \"bytes32\",\n",
    "          \"name\": \"recipient\",\n",
    "          \"type\": \"bytes32\"\n",
    "        },\n",
    "        {\n",
    "          \"internalType\": \"string\",\n",
    "          \"name\": \"message\",\n",
    "          \"type\": \"string\"\n",
    "        }\n",
    "      ],\n",
    "      \"name\": \"send\",\n",
    "      \"outputs\": [],\n",
    "      \"stateMutability\": \"payable\",\n",
    "      \"type\": \"function\"\n",
    "    }\n",
    "  ]''')\n",
    "\n",
    "# Reference the deployed contract:\n",
    "send_message = w3.eth.contract(address=contract_address, abi=abi)\n",
    "\n",
    "# Method arguments\n",
    "# recipient's wallet address\n",
    "recipient_address = to_bytes32('0xeBFc913dFfA597C1200b4c4daDe9D90415019CC2')\n",
    "\n",
    "# example IPFS CID\n",
    "string_arg = 'QmPK1s3pNYLi9ERiq3BDxKa4XosgWwFRQUydHUtz4YgpqB'\n",
    "#string_arg = \"At XMTP Labs, our engineering team is working alongside the community to develop the XMTP protocol, advance the decentralization of the XMTP network, and ensure an exceptional developer experience for everyone building with XMTP. At XMTP Labs, our engineering team is working alongside the community to develop the XMTP protocol, advance the decentralization of the XMTP network, and ensure an exceptional developer experience for everyone building with XMTP. At XMTP Labs, our engineering team is working alongside the community to develop the XMTP protocol, advance the decentralization of the XMTP network, and ensure an exceptional developer experience for everyone building with XMTP. At XMTP Labs, our engineering team is working alongside the community to develop the XMTP protocol, advance the decentralization of the XMTP network, and ensure an exceptional developer experience for everyone building with XMTP. At XMTP Labs, our engineering team is working alongside the community to develop the XMTP protocol, advance the decentralization of the XMTP network, and ensure an exceptional developer experience for everyone building with XMTP. At XMTP Labs, our engineering team is working alongside the community to develop the XMTP protocol, advance the decentralization of the XMTP network, and ensure an exceptional developer experience for everyone building with XMTP. At XMTP Labs, our engineering team is working alongside the community to develop the XMTP protocol, advance the decentralization of the XMTP network, and ensure an exceptional developer experience for everyone building with XMTP. At XMTP Labs, our engineering team is working alongside the community to develop the XMTP protocol, advance the decentralization of the XMTP network, and ensure an exceptional developer experience for everyone building with XMTP. At XMTP Labs, our engineering team is working alongside the community to develop the XMTP protocol, advance the decentralization of the XMTP network, and ensure an exceptional developer experience for everyone building with XMTP. At XMTP Labs, our engineering team is working alongside the community to develop the XMTP protocol, advance the decentralization of the XMTP network, and ensure an exceptional developer experience for everyone building with XMTP. At XMTP Labs, our engineering team is working alongside the community to develop the XMTP protocol, advance the decentralization of the XMTP network, and ensure an exceptional developer experience for everyone building with XMTP. At XMTP Labs, our engineering team is working alongside the community to develop the XMTP protocol, advance the decentralization of the XMTP network, and ensure an exceptional developer experience for everyone building with XMTP. At XMTP Labs, our engineering team is working alongside the community to develop the XMTP protocol, advance the decentralization of the XMTP network, and ensure an exceptional developer experience for everyone building with XMTP. At XMTP Labs, our engineering team is working alongside the community to develop the XMTP protocol, advance the decentralization of the XMTP network, and ensure an exceptional developer experience for everyone building with XMTP. At XMTP Labs, our engineering team is working alongside the community to develop the XMTP protocol, advance the decentralization of the XMTP network, and ensure an exceptional developer experience for everyone building with XMTP. At XMTP Labs, our engineering team is working alongside the community to develop the XMTP protocol, advance the decentralization of the XMTP network, and ensure an exceptional developer experience for everyone building with XMTP. At XMTP Labs, our engineering team is working alongside the community to develop the XMTP protocol, advance the decentralization of the XMTP network, and ensure an exceptional developer experience for everyone building with XMTP. At XMTP Labs, our engineering team is working alongside the community to develop the XMTP protocol, advance the decentralization of the XMTP network, and ensure an exceptional developer experience for everyone building with XMTP. At XMTP Labs, our engineering team is working alongside the community to develop the XMTP protocol, advance the decentralization of the XMTP network, and ensure an exceptional developer experience for everyone building with XMTP. At XMTP Labs, our engineering team is working alongside the community to develop the XMTP protocol, advance the decentralization of the XMTP network, and ensure an exceptional developer experience for everyone building with XMTP.\"\n",
    "\n",
    "# call the send function -- note the function will be renamed to sendMessage() soon\n",
    "# Manually build and sign a transaction:\n",
    "unsent_send_message_tx = send_message.functions.send(recipient_address,string_arg).build_transaction({\n",
    "    'chainId': 3105952417095944,\n",
    "    \"from\": acct2.address,\n",
    "    \"nonce\": w3.eth.get_transaction_count(acct2.address),\n",
    "})\n",
    "signed_tx = w3.eth.account.sign_transaction(unsent_send_message_tx, private_key=acct2.key)\n",
    "\n",
    "# Send the raw transaction:\n",
    "tx_hash = w3.eth.send_raw_transaction(signed_tx.rawTransaction)\n",
    "w3.eth.wait_for_transaction_receipt(tx_hash)\n",
    "print(f\"Transaction hash: {tx_hash.hex()}\")\n"
   ]
  },
  {
   "cell_type": "code",
   "execution_count": null,
   "metadata": {},
   "outputs": [],
   "source": [
    "# check the logs\n",
    "\n",
    "# Event Signature\n",
    "event_signature_hash = Web3.keccak(text='MessageSent(bytes32,string)').hex()\n",
    "\n",
    "# Setting up a filter for the past 'n' blocks, or a specific block range\n",
    "block_filter = w3.eth.filter({\n",
    "    'fromBlock': 'earliest',  # Can be block number or 'earliest' for starting block\n",
    "    'toBlock': 'latest',    # Can be block number or 'latest'\n",
    "    'address': contract_address,\n",
    "    'topics': [event_signature_hash, to_bytes32('0xeBFc913dFfA597C1200b4c4daDe9D90415019CC2').hex()]\n",
    "})\n",
    "\n",
    "# Retrieve the logs\n",
    "logs = block_filter.get_all_entries()\n",
    "\n",
    "# Decode and display the events\n",
    "for log in logs:\n",
    "    event_data = send_message.events.MessageSent().process_receipt({'logs': [log]})\n",
    "    print(event_data)"
   ]
  },
  {
   "cell_type": "code",
   "execution_count": null,
   "metadata": {},
   "outputs": [],
   "source": [
    "# get utf bytes \n",
    "# Decode and display the events\n",
    "for log in logs:\n",
    "    print(log['data'])\n",
    "    #event_data = send_message.events.MessageSent().process_receipt({'logs': [log]})\n",
    "    #print(event_data)"
   ]
  }
 ],
 "metadata": {
  "kernelspec": {
   "display_name": ".venv",
   "language": "python",
   "name": "python3"
  },
  "language_info": {
   "codemirror_mode": {
    "name": "ipython",
    "version": 3
   },
   "file_extension": ".py",
   "mimetype": "text/x-python",
   "name": "python",
   "nbconvert_exporter": "python",
   "pygments_lexer": "ipython3",
   "version": "3.11.6"
  }
 },
 "nbformat": 4,
 "nbformat_minor": 2
}
