{
 "cells": [
  {
   "cell_type": "code",
   "execution_count": 10,
   "metadata": {},
   "outputs": [],
   "source": [
    "from web3 import Web3, AsyncWeb3\n",
    "from web3.middleware import construct_sign_and_send_raw_middleware\n",
    "import os\n",
    "import json"
   ]
  },
  {
   "cell_type": "code",
   "execution_count": 2,
   "metadata": {},
   "outputs": [],
   "source": [
    "# connect to the chain using the conduit RPC -- testnet so no need for access key\n",
    "w3 = Web3(Web3.HTTPProvider('https://nitrorpc-xmtp-l3-sepolia-arbitrum-anytr-x1nwrvmveu.t.conduit.xyz'))"
   ]
  },
  {
   "cell_type": "code",
   "execution_count": null,
   "metadata": {},
   "outputs": [],
   "source": [
    "# get latest block -- just to check connection\n",
    "w3.eth.get_block('latest')"
   ]
  },
  {
   "cell_type": "code",
   "execution_count": null,
   "metadata": {},
   "outputs": [],
   "source": [
    "# Step: create a persisted env variable in your .profile and name it PRIVATE_KEY\n",
    "# reference sk for signing tx\n",
    "pk = os.environ.get('PRIVATE_KEY')"
   ]
  },
  {
   "cell_type": "code",
   "execution_count": 4,
   "metadata": {},
   "outputs": [],
   "source": [
    "# eth transfer using midleware signer and send_transaction function\n",
    "\n",
    "# Instantiate an Account object from your key:\n",
    "acct2 = w3.eth.account.from_key(pk)\n",
    "\n",
    "# Add acct2 as auto-signer:\n",
    "w3.middleware_onion.add(construct_sign_and_send_raw_middleware(acct2))\n",
    "# pk also works: w3.middleware_onion.add(construct_sign_and_send_raw_middleware(pk))\n",
    "\n",
    "# Transactions from `acct2` will then be signed, under the hood, in the middleware:\n",
    "tx_hash = w3.eth.send_transaction({\n",
    "    \"from\": acct2.address,\n",
    "    \"value\": 1000000,\n",
    "    \"to\": '0xeBFc913dFfA597C1200b4c4daDe9D90415019CC2'\n",
    "})\n",
    "\n",
    "tx = w3.eth.get_transaction(tx_hash)\n",
    "assert tx[\"from\"] == acct2.address"
   ]
  },
  {
   "cell_type": "code",
   "execution_count": 19,
   "metadata": {},
   "outputs": [],
   "source": [
    "# simple function to convert recipient address to 32 byte. Note, the recipient can be anything for testing (i.e., bob) but must be <32 bytes or it will fail\n",
    "def to_bytes32(input_string):\n",
    "    # Encode the string to bytes\n",
    "    encoded = input_string.encode()\n",
    "\n",
    "    # Hash the encoded bytes using KECCAK-256 (referred to as SHA3 in Ethereum)\n",
    "    return Web3.keccak(encoded)"
   ]
  },
  {
   "cell_type": "code",
   "execution_count": 32,
   "metadata": {},
   "outputs": [
    {
     "name": "stdout",
     "output_type": "stream",
     "text": [
      "Transaction hash: 0xc5f1556328a568713f4c9835eee4eb952728e43ba0d2dee25939f17a0d81b315\n"
     ]
    }
   ],
   "source": [
    "# contract call\n",
    "\n",
    "# deployed contract address\n",
    "contract_address = Web3.to_checksum_address('0x7af41F8786ed496beDDEceF9341F40fEAd3F4B3F')\n",
    "\n",
    "# recipient address as bytes32\n",
    "msg_recipient = '0xd96FA162b064553822e765545E3D48a054eC81F6'.encode('utf-8')\n",
    "\n",
    "# deployed contract abi\n",
    "abi = json.loads('''[\n",
    "    {\n",
    "      \"anonymous\": false,\n",
    "      \"inputs\": [\n",
    "        {\n",
    "          \"indexed\": true,\n",
    "          \"internalType\": \"bytes32\",\n",
    "          \"name\": \"recipient\",\n",
    "          \"type\": \"bytes32\"\n",
    "        },\n",
    "        {\n",
    "          \"indexed\": false,\n",
    "          \"internalType\": \"string\",\n",
    "          \"name\": \"message\",\n",
    "          \"type\": \"string\"\n",
    "        }\n",
    "      ],\n",
    "      \"name\": \"MessageSent\",\n",
    "      \"type\": \"event\"\n",
    "    },\n",
    "    {\n",
    "      \"inputs\": [\n",
    "        {\n",
    "          \"internalType\": \"bytes32\",\n",
    "          \"name\": \"recipient\",\n",
    "          \"type\": \"bytes32\"\n",
    "        },\n",
    "        {\n",
    "          \"internalType\": \"string\",\n",
    "          \"name\": \"message\",\n",
    "          \"type\": \"string\"\n",
    "        }\n",
    "      ],\n",
    "      \"name\": \"send\",\n",
    "      \"outputs\": [],\n",
    "      \"stateMutability\": \"payable\",\n",
    "      \"type\": \"function\"\n",
    "    }\n",
    "  ]''')\n",
    "\n",
    "# Reference the deployed contract:\n",
    "send_message = w3.eth.contract(address=contract_address, abi=abi)\n",
    "\n",
    "# Method arguments\n",
    "# recipient's wallet address\n",
    "recipient_address = to_bytes32('0xeBFc913dFfA597C1200b4c4daDe9D90415019CC2')\n",
    "\n",
    "# example IPFS CID\n",
    "string_arg = 'QmPK1s3pNYLi9ERiq3BDxKa4XosgWwFRQUydHUtz4YgpqB'\n",
    "#string_arg = \"At XMTP Labs, our engineering team is working alongside the community to develop the XMTP protocol, advance the decentralization of the XMTP network, and ensure an exceptional developer experience for everyone building with XMTP. At XMTP Labs, our engineering team is working alongside the community to develop the XMTP protocol, advance the decentralization of the XMTP network, and ensure an exceptional developer experience for everyone building with XMTP. At XMTP Labs, our engineering team is working alongside the community to develop the XMTP protocol, advance the decentralization of the XMTP network, and ensure an exceptional developer experience for everyone building with XMTP. At XMTP Labs, our engineering team is working alongside the community to develop the XMTP protocol, advance the decentralization of the XMTP network, and ensure an exceptional developer experience for everyone building with XMTP. At XMTP Labs, our engineering team is working alongside the community to develop the XMTP protocol, advance the decentralization of the XMTP network, and ensure an exceptional developer experience for everyone building with XMTP. At XMTP Labs, our engineering team is working alongside the community to develop the XMTP protocol, advance the decentralization of the XMTP network, and ensure an exceptional developer experience for everyone building with XMTP. At XMTP Labs, our engineering team is working alongside the community to develop the XMTP protocol, advance the decentralization of the XMTP network, and ensure an exceptional developer experience for everyone building with XMTP. At XMTP Labs, our engineering team is working alongside the community to develop the XMTP protocol, advance the decentralization of the XMTP network, and ensure an exceptional developer experience for everyone building with XMTP. At XMTP Labs, our engineering team is working alongside the community to develop the XMTP protocol, advance the decentralization of the XMTP network, and ensure an exceptional developer experience for everyone building with XMTP. At XMTP Labs, our engineering team is working alongside the community to develop the XMTP protocol, advance the decentralization of the XMTP network, and ensure an exceptional developer experience for everyone building with XMTP. At XMTP Labs, our engineering team is working alongside the community to develop the XMTP protocol, advance the decentralization of the XMTP network, and ensure an exceptional developer experience for everyone building with XMTP. At XMTP Labs, our engineering team is working alongside the community to develop the XMTP protocol, advance the decentralization of the XMTP network, and ensure an exceptional developer experience for everyone building with XMTP. At XMTP Labs, our engineering team is working alongside the community to develop the XMTP protocol, advance the decentralization of the XMTP network, and ensure an exceptional developer experience for everyone building with XMTP. At XMTP Labs, our engineering team is working alongside the community to develop the XMTP protocol, advance the decentralization of the XMTP network, and ensure an exceptional developer experience for everyone building with XMTP. At XMTP Labs, our engineering team is working alongside the community to develop the XMTP protocol, advance the decentralization of the XMTP network, and ensure an exceptional developer experience for everyone building with XMTP. At XMTP Labs, our engineering team is working alongside the community to develop the XMTP protocol, advance the decentralization of the XMTP network, and ensure an exceptional developer experience for everyone building with XMTP. At XMTP Labs, our engineering team is working alongside the community to develop the XMTP protocol, advance the decentralization of the XMTP network, and ensure an exceptional developer experience for everyone building with XMTP. At XMTP Labs, our engineering team is working alongside the community to develop the XMTP protocol, advance the decentralization of the XMTP network, and ensure an exceptional developer experience for everyone building with XMTP. At XMTP Labs, our engineering team is working alongside the community to develop the XMTP protocol, advance the decentralization of the XMTP network, and ensure an exceptional developer experience for everyone building with XMTP. At XMTP Labs, our engineering team is working alongside the community to develop the XMTP protocol, advance the decentralization of the XMTP network, and ensure an exceptional developer experience for everyone building with XMTP.\"\n",
    "\n",
    "# call the send function -- note the function will be renamed to sendMessage() soon\n",
    "# Manually build and sign a transaction:\n",
    "unsent_send_message_tx = send_message.functions.send(recipient_address,string_arg).build_transaction({\n",
    "    'chainId': 3105952417095944,\n",
    "    \"from\": acct2.address,\n",
    "    \"nonce\": w3.eth.get_transaction_count(acct2.address),\n",
    "})\n",
    "signed_tx = w3.eth.account.sign_transaction(unsent_send_message_tx, private_key=acct2.key)\n",
    "\n",
    "# Send the raw transaction:\n",
    "tx_hash = w3.eth.send_raw_transaction(signed_tx.rawTransaction)\n",
    "w3.eth.wait_for_transaction_receipt(tx_hash)\n",
    "print(f\"Transaction hash: {tx_hash.hex()}\")\n"
   ]
  },
  {
   "cell_type": "code",
   "execution_count": 34,
   "metadata": {},
   "outputs": [
    {
     "name": "stdout",
     "output_type": "stream",
     "text": [
      "(AttributeDict({'args': AttributeDict({'recipient': b'\\x1de\\xdf\\xbaA\\x98.\\xcd$\\xca\\xec5S\\x8f\\xb4g\\xb0\\xc9\\x01\\x9a\\xcd.2\\xc1\\t\\xdd\\xac\\x15\\xe8\\xee\\x11W', 'message': 'hi bob'}), 'event': 'MessageSent', 'logIndex': 0, 'transactionIndex': 1, 'transactionHash': HexBytes('0xca0f49b02e4a02450e483dfae77a1a747b59d339fb122ae623c0383d25f2ffdc'), 'address': '0x7af41F8786ed496beDDEceF9341F40fEAd3F4B3F', 'blockHash': HexBytes('0xe978279874584e4e025c67a25f17c1f945b381ba507362ea297457c970869b0a'), 'blockNumber': 31}),)\n",
      "(AttributeDict({'args': AttributeDict({'recipient': b'\\x1de\\xdf\\xbaA\\x98.\\xcd$\\xca\\xec5S\\x8f\\xb4g\\xb0\\xc9\\x01\\x9a\\xcd.2\\xc1\\t\\xdd\\xac\\x15\\xe8\\xee\\x11W', 'message': 'hi bob'}), 'event': 'MessageSent', 'logIndex': 0, 'transactionIndex': 1, 'transactionHash': HexBytes('0xb5163780c453ae66d4d448e9ad0cd6c50a5baeb341a6b66b1d9d803b0e62a71a'), 'address': '0x7af41F8786ed496beDDEceF9341F40fEAd3F4B3F', 'blockHash': HexBytes('0x6925720a0ba8f44bcae6e7024d915956848c0405566a4c6eb51fc5c50e7e0f50'), 'blockNumber': 32}),)\n",
      "(AttributeDict({'args': AttributeDict({'recipient': b'\\x1de\\xdf\\xbaA\\x98.\\xcd$\\xca\\xec5S\\x8f\\xb4g\\xb0\\xc9\\x01\\x9a\\xcd.2\\xc1\\t\\xdd\\xac\\x15\\xe8\\xee\\x11W', 'message': 'want to grab lunch?'}), 'event': 'MessageSent', 'logIndex': 0, 'transactionIndex': 1, 'transactionHash': HexBytes('0xc1915e2b2732d7bc87bae48e3a94082cce22aee4f7f3be6cfad4c921c6b7f738'), 'address': '0x7af41F8786ed496beDDEceF9341F40fEAd3F4B3F', 'blockHash': HexBytes('0x1f62c5137190d591a8d7726c1085b5f14aeaa74d3500ed1345b44f7ec7bc1518'), 'blockNumber': 33}),)\n",
      "(AttributeDict({'args': AttributeDict({'recipient': b'\\x1de\\xdf\\xbaA\\x98.\\xcd$\\xca\\xec5S\\x8f\\xb4g\\xb0\\xc9\\x01\\x9a\\xcd.2\\xc1\\t\\xdd\\xac\\x15\\xe8\\xee\\x11W', 'message': 'QmPK1s3pNYLi9ERiq3BDxKa4XosgWwFRQUydHUtz4YgpqB'}), 'event': 'MessageSent', 'logIndex': 0, 'transactionIndex': 1, 'transactionHash': HexBytes('0x20376c2bfc79720797fff22596c496bae33784194311fe6b662c0ed0a16bfb96'), 'address': '0x7af41F8786ed496beDDEceF9341F40fEAd3F4B3F', 'blockHash': HexBytes('0xd46993bacf49073264dc957ca2e83f67eb28f0d2ebaac5be45299c6ba990b152'), 'blockNumber': 35}),)\n",
      "(AttributeDict({'args': AttributeDict({'recipient': b'\\x1de\\xdf\\xbaA\\x98.\\xcd$\\xca\\xec5S\\x8f\\xb4g\\xb0\\xc9\\x01\\x9a\\xcd.2\\xc1\\t\\xdd\\xac\\x15\\xe8\\xee\\x11W', 'message': \"I think we're going to rename that method back to sendMessage too btw, so it doesn't conflict with the send term that's already common with contracts in Ethereum, but I'll let you know when that happens, not going to do that right now, John will do another pass on the contract code for that next week and make it use a vanity/fixed address for deployment at the same time too\"}), 'event': 'MessageSent', 'logIndex': 0, 'transactionIndex': 1, 'transactionHash': HexBytes('0x24805074b9af950b83f33c1da09c4995e6c38ca11de77fced930b585cf871599'), 'address': '0x7af41F8786ed496beDDEceF9341F40fEAd3F4B3F', 'blockHash': HexBytes('0x53bba16075f686d4dc83a0966a6b7239a26c4313d6aff30b16630e29ad6828da'), 'blockNumber': 36}),)\n",
      "(AttributeDict({'args': AttributeDict({'recipient': b'\\x1de\\xdf\\xbaA\\x98.\\xcd$\\xca\\xec5S\\x8f\\xb4g\\xb0\\xc9\\x01\\x9a\\xcd.2\\xc1\\t\\xdd\\xac\\x15\\xe8\\xee\\x11W', 'message': 'At XMTP Labs, our engineering team is working alongside the community to develop the XMTP protocol, advance the decentralization of the XMTP network, and ensure an exceptional developer experience for everyone building with XMTP. At XMTP Labs, our engineering team is working alongside the community to develop the XMTP protocol, advance the decentralization of the XMTP network, and ensure an exceptional developer experience for everyone building with XMTP. At XMTP Labs, our engineering team is working alongside the community to develop the XMTP protocol, advance the decentralization of the XMTP network, and ensure an exceptional developer experience for everyone building with XMTP. At XMTP Labs, our engineering team is working alongside the community to develop the XMTP protocol, advance the decentralization of the XMTP network, and ensure an exceptional developer experience for everyone building with XMTP. At XMTP Labs, our engineering team is working alongside the community to develop the XMTP protocol, advance the decentralization of the XMTP network, and ensure an exceptional developer experience for everyone building with XMTP. At XMTP Labs, our engineering team is working alongside the community to develop the XMTP protocol, advance the decentralization of the XMTP network, and ensure an exceptional developer experience for everyone building with XMTP. At XMTP Labs, our engineering team is working alongside the community to develop the XMTP protocol, advance the decentralization of the XMTP network, and ensure an exceptional developer experience for everyone building with XMTP. At XMTP Labs, our engineering team is working alongside the community to develop the XMTP protocol, advance the decentralization of the XMTP network, and ensure an exceptional developer experience for everyone building with XMTP. At XMTP Labs, our engineering team is working alongside the community to develop the XMTP protocol, advance the decentralization of the XMTP network, and ensure an exceptional developer experience for everyone building with XMTP. At XMTP Labs, our engineering team is working alongside the community to develop the XMTP protocol, advance the decentralization of the XMTP network, and ensure an exceptional developer experience for everyone building with XMTP. At XMTP Labs, our engineering team is working alongside the community to develop the XMTP protocol, advance the decentralization of the XMTP network, and ensure an exceptional developer experience for everyone building with XMTP. At XMTP Labs, our engineering team is working alongside the community to develop the XMTP protocol, advance the decentralization of the XMTP network, and ensure an exceptional developer experience for everyone building with XMTP. At XMTP Labs, our engineering team is working alongside the community to develop the XMTP protocol, advance the decentralization of the XMTP network, and ensure an exceptional developer experience for everyone building with XMTP. At XMTP Labs, our engineering team is working alongside the community to develop the XMTP protocol, advance the decentralization of the XMTP network, and ensure an exceptional developer experience for everyone building with XMTP. At XMTP Labs, our engineering team is working alongside the community to develop the XMTP protocol, advance the decentralization of the XMTP network, and ensure an exceptional developer experience for everyone building with XMTP. At XMTP Labs, our engineering team is working alongside the community to develop the XMTP protocol, advance the decentralization of the XMTP network, and ensure an exceptional developer experience for everyone building with XMTP. At XMTP Labs, our engineering team is working alongside the community to develop the XMTP protocol, advance the decentralization of the XMTP network, and ensure an exceptional developer experience for everyone building with XMTP. At XMTP Labs, our engineering team is working alongside the community to develop the XMTP protocol, advance the decentralization of the XMTP network, and ensure an exceptional developer experience for everyone building with XMTP. At XMTP Labs, our engineering team is working alongside the community to develop the XMTP protocol, advance the decentralization of the XMTP network, and ensure an exceptional developer experience for everyone building with XMTP. At XMTP Labs, our engineering team is working alongside the community to develop the XMTP protocol, advance the decentralization of the XMTP network, and ensure an exceptional developer experience for everyone building with XMTP.'}), 'event': 'MessageSent', 'logIndex': 0, 'transactionIndex': 1, 'transactionHash': HexBytes('0xc5f1556328a568713f4c9835eee4eb952728e43ba0d2dee25939f17a0d81b315'), 'address': '0x7af41F8786ed496beDDEceF9341F40fEAd3F4B3F', 'blockHash': HexBytes('0xf4ed62e6ad04e90064d29521b7efdb85990a148f26516b7d5df1cb05887e9cb5'), 'blockNumber': 37}),)\n"
     ]
    }
   ],
   "source": [
    "# check the logs\n",
    "\n",
    "# Event Signature\n",
    "event_signature_hash = Web3.keccak(text='MessageSent(bytes32,string)').hex()\n",
    "\n",
    "# Setting up a filter for the past 'n' blocks, or a specific block range\n",
    "block_filter = w3.eth.filter({\n",
    "    'fromBlock': 'earliest',  # Can be block number or 'earliest' for starting block\n",
    "    'toBlock': 'latest',    # Can be block number or 'latest'\n",
    "    'address': contract_address,\n",
    "    'topics': [event_signature_hash, to_bytes32('0xeBFc913dFfA597C1200b4c4daDe9D90415019CC2').hex()]\n",
    "})\n",
    "\n",
    "# Retrieve the logs\n",
    "logs = block_filter.get_all_entries()\n",
    "\n",
    "# Decode and display the events\n",
    "for log in logs:\n",
    "    event_data = send_message.events.MessageSent().process_receipt({'logs': [log]})\n",
    "    print(event_data)"
   ]
  },
  {
   "cell_type": "code",
   "execution_count": null,
   "metadata": {},
   "outputs": [],
   "source": [
    "# get utf bytes \n",
    "# Decode and display the events\n",
    "for log in logs:\n",
    "    print(log['data'])\n",
    "    #event_data = send_message.events.MessageSent().process_receipt({'logs': [log]})\n",
    "    #print(event_data)"
   ]
  }
 ],
 "metadata": {
  "kernelspec": {
   "display_name": ".venv",
   "language": "python",
   "name": "python3"
  },
  "language_info": {
   "codemirror_mode": {
    "name": "ipython",
    "version": 3
   },
   "file_extension": ".py",
   "mimetype": "text/x-python",
   "name": "python",
   "nbconvert_exporter": "python",
   "pygments_lexer": "ipython3",
   "version": "3.11.6"
  }
 },
 "nbformat": 4,
 "nbformat_minor": 2
}
