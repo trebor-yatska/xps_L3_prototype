{
 "cells": [
  {
   "cell_type": "code",
   "execution_count": 2,
   "metadata": {},
   "outputs": [],
   "source": [
    "import ipyparallel as ipp\n",
    "import os"
   ]
  },
  {
   "cell_type": "code",
   "execution_count": 12,
   "metadata": {},
   "outputs": [
    {
     "name": "stdout",
     "output_type": "stream",
     "text": [
      "Starting 4 engines with <class 'ipyparallel.cluster.launcher.LocalEngineSetLauncher'>\n",
      "100%|██████████| 4/4 [00:05<00:00,  1.40s/engine]\n"
     ]
    },
    {
     "data": {
      "text/plain": [
       "[0, 1, 2, 3]"
      ]
     },
     "execution_count": 12,
     "metadata": {},
     "output_type": "execute_result"
    }
   ],
   "source": [
    "# spin up four kernals\n",
    "rc = ipp.Cluster(n=4).start_and_connect_sync()\n",
    "\n",
    "# each engine will require a separately prefunded EOA. Note, funds must be on the Orbit L3\n",
    "rc.wait_for_engines(n=4)\n",
    "rc.ids"
   ]
  },
  {
   "cell_type": "code",
   "execution_count": 22,
   "metadata": {},
   "outputs": [],
   "source": [
    "def executeTransaction(pk):\n",
    "    from web3 import Web3, AsyncWeb3\n",
    "    from web3.middleware import construct_sign_and_send_raw_middleware\n",
    "    import time\n",
    "    import json\n",
    "    import random\n",
    "\n",
    "    # connect to the chain using the conduit RPC -- testnet so no need for access key\n",
    "    w3 = Web3(Web3.HTTPProvider('https://nitrorpc-xmtp-l3-sepolia-arbitrum-anytr-x1nwrvmveu.t.conduit.xyz'))\n",
    "\n",
    "    # Instantiate an Account object from your key:\n",
    "    send_acct = w3.eth.account.from_key(pk)\n",
    "\n",
    "    # Add acct2 as auto-signer:\n",
    "    w3.middleware_onion.add(construct_sign_and_send_raw_middleware(send_acct))\n",
    "\n",
    "    # simple function to convert recipient address to 32 byte. Note, the recipient can be anything for testing (i.e., bob) but must be <32 bytes or it will fail\n",
    "    def to_bytes32(input_string):\n",
    "        # Encode the string to bytes\n",
    "        encoded = input_string.encode()\n",
    "\n",
    "        # Hash the encoded bytes using KECCAK-256 (referred to as SHA3 in Ethereum)\n",
    "        return Web3.keccak(encoded)\n",
    "\n",
    "    # contract call\n",
    "\n",
    "    # deployed contract address\n",
    "    contract_address = Web3.to_checksum_address('0x7af41F8786ed496beDDEceF9341F40fEAd3F4B3F')\n",
    "\n",
    "    # recipient address as bytes32\n",
    "    msg_recipient = '0xd96FA162b064553822e765545E3D48a054eC81F6'.encode('utf-8')\n",
    "\n",
    "    # deployed contract abi\n",
    "    abi = json.loads('''[\n",
    "        {\n",
    "        \"anonymous\": false,\n",
    "        \"inputs\": [\n",
    "            {\n",
    "            \"indexed\": true,\n",
    "            \"internalType\": \"bytes32\",\n",
    "            \"name\": \"recipient\",\n",
    "            \"type\": \"bytes32\"\n",
    "            },\n",
    "            {\n",
    "            \"indexed\": false,\n",
    "            \"internalType\": \"string\",\n",
    "            \"name\": \"message\",\n",
    "            \"type\": \"string\"\n",
    "            }\n",
    "        ],\n",
    "        \"name\": \"MessageSent\",\n",
    "        \"type\": \"event\"\n",
    "        },\n",
    "        {\n",
    "        \"inputs\": [\n",
    "            {\n",
    "            \"internalType\": \"bytes32\",\n",
    "            \"name\": \"recipient\",\n",
    "            \"type\": \"bytes32\"\n",
    "            },\n",
    "            {\n",
    "            \"internalType\": \"string\",\n",
    "            \"name\": \"message\",\n",
    "            \"type\": \"string\"\n",
    "            }\n",
    "        ],\n",
    "        \"name\": \"send\",\n",
    "        \"outputs\": [],\n",
    "        \"stateMutability\": \"payable\",\n",
    "        \"type\": \"function\"\n",
    "        }\n",
    "    ]''')\n",
    "\n",
    "    # Reference the deployed contract:\n",
    "    send_message = w3.eth.contract(address=contract_address, abi=abi)\n",
    "\n",
    "    # Method arguments\n",
    "    # recipient's wallet address\n",
    "    recipient_address = to_bytes32('0xeBFc913dFfA597C1200b4c4daDe9D90415019CC2')\n",
    "\n",
    "    # example IPFS CID\n",
    "    string_arg = 'QmPK1s3pNYLi9ERiq3BDxKa4XosgWwFRQUydHUtz4YgpqB'\n",
    "\n",
    "    tx_count = 1\n",
    "    while tx_count <= 70000:\n",
    "        #if tx_count % 10 == 0:\n",
    "        #print(f\"executing tx {tx_count}\")\n",
    "        # print(f\"executing tx {tx_count}\")\n",
    "        # print(f\"nonce is {w3.eth.get_transaction_count(acct2.address)}\")\n",
    "        # call the send function -- note the function will be renamed to sendMessage() soon\n",
    "        # Manually build and sign a transaction:\n",
    "        unsent_send_message_tx = send_message.functions.send(recipient_address,string_arg).build_transaction({\n",
    "            'chainId': 3105952417095944,\n",
    "            \"from\": send_acct.address,\n",
    "            \"nonce\": w3.eth.get_transaction_count(send_acct.address),\n",
    "        })\n",
    "        signed_tx = w3.eth.account.sign_transaction(unsent_send_message_tx, private_key=send_acct.key)\n",
    "\n",
    "        # Send the raw transaction:\n",
    "        tx_hash = w3.eth.send_raw_transaction(signed_tx.rawTransaction)\n",
    "\n",
    "        # iterate\n",
    "        tx_count = tx_count + 1\n",
    "        \n",
    "        # wait a second before sending the next tx\n",
    "        random_integer = random.uniform(.99, 1.01)\n",
    "        time.sleep(random_integer)\n",
    "\n",
    "    return f\"{send_acct.address} worker completed job\""
   ]
  },
  {
   "cell_type": "code",
   "execution_count": 23,
   "metadata": {},
   "outputs": [],
   "source": [
    "rc[:].map_sync(executeTransaction, [os.environ.get('PRIVATE_KEY0'),os.environ.get('PRIVATE_KEY1'),\n",
    "                                    os.environ.get('PRIVATE_KEY2'),os.environ.get('PRIVATE_KEY3')])"
   ]
  }
 ],
 "metadata": {
  "kernelspec": {
   "display_name": ".venv",
   "language": "python",
   "name": "python3"
  },
  "language_info": {
   "codemirror_mode": {
    "name": "ipython",
    "version": 3
   },
   "file_extension": ".py",
   "mimetype": "text/x-python",
   "name": "python",
   "nbconvert_exporter": "python",
   "pygments_lexer": "ipython3",
   "version": "3.11.6"
  }
 },
 "nbformat": 4,
 "nbformat_minor": 2
}
